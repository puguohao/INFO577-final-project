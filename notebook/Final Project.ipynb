{
 "cells": [
  {
   "cell_type": "markdown",
   "metadata": {},
   "source": [
    "# Final Project"
   ]
  },
  {
   "cell_type": "markdown",
   "metadata": {},
   "source": [
    "Business goal and supporting objectives"
   ]
  },
  {
   "cell_type": "raw",
   "metadata": {},
   "source": [
    "The business goal of this project is to analyze the tendency of Beijing's second-hand house price from 2011 to 2018, and construct a model which predict house's total price depending on its relevent features(sqaure, livingRoom, drawingRoom, kitchen, bathroom, floor, buildingType, constructionTime, renovationCondition, buildingStructure, ladderRatio, elevator, fiveYearProperty, district) by using machine learning methods.\n",
    "This model will support any second-hand houses' total price in Beijing from 2011 to 2018, with completed features（sqaure, livingRoom, drawingRoom, kitchen, bathroom, floor, buildingType, constructionTime, renovationCondition, buildingStructure, ladderRatio, elevator, fiveYearProperty, district）"
   ]
  },
  {
   "cell_type": "markdown",
   "metadata": {},
   "source": [
    "details of data set"
   ]
  },
  {
   "cell_type": "raw",
   "metadata": {},
   "source": [
    "this data set is fetching from Lianjia.com\n",
    "belows are variables exist in this data set：\n",
    "\n",
    "1. url: the url which fetches the data\n",
    "2. id: the id of transaction\n",
    "3. Lng: and Lat coordinates, using the BD09 protocol.\n",
    "4. Cid: community id\n",
    "5. tradeTime: the time of transaction\n",
    "6. DOM: active days on market.Know more in https://en.wikipedia.org/wiki/Days_on_market\n",
    "7. followers: the number of people follow the transaction.\n",
    "8. totalPrice: the total price\n",
    "9. price: the average price by square\n",
    "10. square: the square of house\n",
    "11. livingRoom: the number of living room\n",
    "12. drawingRoom: the number of drawing room\n",
    "13. kitchen: the number of kitchen\n",
    "14. bathroom the number of bathroom\n",
    "15. floor: the height of the house. I will turn the Chinese characters to English in the next version.\n",
    "16. buildingType: including tower( 1 ) , bungalow( 2 )，combination of plate and tower( 3 ), plate( 4 ).\n",
    "17. constructionTime: the time of construction\n",
    "18. renovationCondition: including other( 1 ), rough( 2 ),Simplicity( 3 ), hardcover( 4 )\n",
    "19. buildingStructure: including unknow( 1 ), mixed( 2 ), brick and wood( 3 ), brick and concrete( 4 ),steel( 5 ) and steel-concrete composite ( 6 ).\n",
    "20. ladderRatio: the proportion between number of residents on the same floor and number of elevator of ladder. It describes how many ladders a resident have on average.\n",
    "21. elevator have ( 1 ) or not have elevator( 0 )\n",
    "22. fiveYearsProperty: if the owner have the property for less than 5 years\n",
    "23. district: (1)Dongcheng (2)Fengtai (3)Tongzhou (4)Daxing (5)Fangshan (6)Changping (7)Chaoyang (8)Haidian (9)Shijingshan (10)Xicheng (11)Pinggu (12)Mengtougou (13)Shunyi"
   ]
  },
  {
   "cell_type": "code",
   "execution_count": 7,
   "metadata": {},
   "outputs": [],
   "source": [
    "import numpy as np\n",
    "import pandas as pd\n",
    "import os"
   ]
  },
  {
   "cell_type": "markdown",
   "metadata": {},
   "source": [
    "load data set"
   ]
  },
  {
   "cell_type": "code",
   "execution_count": 8,
   "metadata": {},
   "outputs": [],
   "source": [
    "DATA_DIR = os.getcwd()\n",
    "beijing_house = os.path.join(DATA_DIR, '../data/new_UTF-8.csv')"
   ]
  },
  {
   "cell_type": "code",
   "execution_count": 9,
   "metadata": {},
   "outputs": [],
   "source": [
    "pd.set_option('display.max_columns', None)"
   ]
  },
  {
   "cell_type": "code",
   "execution_count": 10,
   "metadata": {},
   "outputs": [],
   "source": [
    "df = pd.read_csv(beijing_house)"
   ]
  },
  {
   "cell_type": "markdown",
   "metadata": {},
   "source": [
    "look at the first 5 rows of this data set"
   ]
  },
  {
   "cell_type": "code",
   "execution_count": 11,
   "metadata": {
    "scrolled": true
   },
   "outputs": [
    {
     "data": {
      "text/html": [
       "<div>\n",
       "<style scoped>\n",
       "    .dataframe tbody tr th:only-of-type {\n",
       "        vertical-align: middle;\n",
       "    }\n",
       "\n",
       "    .dataframe tbody tr th {\n",
       "        vertical-align: top;\n",
       "    }\n",
       "\n",
       "    .dataframe thead th {\n",
       "        text-align: right;\n",
       "    }\n",
       "</style>\n",
       "<table border=\"1\" class=\"dataframe\">\n",
       "  <thead>\n",
       "    <tr style=\"text-align: right;\">\n",
       "      <th></th>\n",
       "      <th>url</th>\n",
       "      <th>id</th>\n",
       "      <th>Lng</th>\n",
       "      <th>Lat</th>\n",
       "      <th>Cid</th>\n",
       "      <th>tradeTime</th>\n",
       "      <th>DOM</th>\n",
       "      <th>followers</th>\n",
       "      <th>totalPrice</th>\n",
       "      <th>price</th>\n",
       "      <th>square</th>\n",
       "      <th>livingRoom</th>\n",
       "      <th>drawingRoom</th>\n",
       "      <th>kitchen</th>\n",
       "      <th>bathRoom</th>\n",
       "      <th>floor</th>\n",
       "      <th>buildingType</th>\n",
       "      <th>constructionTime</th>\n",
       "      <th>renovationCondition</th>\n",
       "      <th>buildingStructure</th>\n",
       "      <th>ladderRatio</th>\n",
       "      <th>elevator</th>\n",
       "      <th>fiveYearsProperty</th>\n",
       "      <th>subway</th>\n",
       "      <th>district</th>\n",
       "      <th>communityAverage</th>\n",
       "    </tr>\n",
       "  </thead>\n",
       "  <tbody>\n",
       "    <tr>\n",
       "      <td>0</td>\n",
       "      <td>https://bj.lianjia.com/chengjiao/101084782030....</td>\n",
       "      <td>1.01085e+11</td>\n",
       "      <td>116.475489</td>\n",
       "      <td>40.019520</td>\n",
       "      <td>1.111030e+12</td>\n",
       "      <td>2016/8/9</td>\n",
       "      <td>1464.0</td>\n",
       "      <td>106</td>\n",
       "      <td>415.0</td>\n",
       "      <td>31680</td>\n",
       "      <td>131.00</td>\n",
       "      <td>2</td>\n",
       "      <td>1</td>\n",
       "      <td>1</td>\n",
       "      <td>1</td>\n",
       "      <td>高 26</td>\n",
       "      <td>1.0</td>\n",
       "      <td>2005</td>\n",
       "      <td>3</td>\n",
       "      <td>6</td>\n",
       "      <td>0.217</td>\n",
       "      <td>1.0</td>\n",
       "      <td>0.0</td>\n",
       "      <td>1.0</td>\n",
       "      <td>7</td>\n",
       "      <td>56021.0</td>\n",
       "    </tr>\n",
       "    <tr>\n",
       "      <td>1</td>\n",
       "      <td>https://bj.lianjia.com/chengjiao/101086012217....</td>\n",
       "      <td>1.01086e+11</td>\n",
       "      <td>116.453917</td>\n",
       "      <td>39.881534</td>\n",
       "      <td>1.111030e+12</td>\n",
       "      <td>2016/7/28</td>\n",
       "      <td>903.0</td>\n",
       "      <td>126</td>\n",
       "      <td>575.0</td>\n",
       "      <td>43436</td>\n",
       "      <td>132.38</td>\n",
       "      <td>2</td>\n",
       "      <td>2</td>\n",
       "      <td>1</td>\n",
       "      <td>2</td>\n",
       "      <td>高 22</td>\n",
       "      <td>1.0</td>\n",
       "      <td>2004</td>\n",
       "      <td>4</td>\n",
       "      <td>6</td>\n",
       "      <td>0.667</td>\n",
       "      <td>1.0</td>\n",
       "      <td>1.0</td>\n",
       "      <td>0.0</td>\n",
       "      <td>7</td>\n",
       "      <td>71539.0</td>\n",
       "    </tr>\n",
       "    <tr>\n",
       "      <td>2</td>\n",
       "      <td>https://bj.lianjia.com/chengjiao/101086041636....</td>\n",
       "      <td>1.01086e+11</td>\n",
       "      <td>116.561978</td>\n",
       "      <td>39.877145</td>\n",
       "      <td>1.111040e+12</td>\n",
       "      <td>2016/12/11</td>\n",
       "      <td>1271.0</td>\n",
       "      <td>48</td>\n",
       "      <td>1030.0</td>\n",
       "      <td>52021</td>\n",
       "      <td>198.00</td>\n",
       "      <td>3</td>\n",
       "      <td>2</td>\n",
       "      <td>1</td>\n",
       "      <td>3</td>\n",
       "      <td>中 4</td>\n",
       "      <td>4.0</td>\n",
       "      <td>2005</td>\n",
       "      <td>3</td>\n",
       "      <td>6</td>\n",
       "      <td>0.500</td>\n",
       "      <td>1.0</td>\n",
       "      <td>0.0</td>\n",
       "      <td>0.0</td>\n",
       "      <td>7</td>\n",
       "      <td>48160.0</td>\n",
       "    </tr>\n",
       "    <tr>\n",
       "      <td>3</td>\n",
       "      <td>https://bj.lianjia.com/chengjiao/101086406841....</td>\n",
       "      <td>1.01086e+11</td>\n",
       "      <td>116.438010</td>\n",
       "      <td>40.076114</td>\n",
       "      <td>1.111040e+12</td>\n",
       "      <td>2016/9/30</td>\n",
       "      <td>965.0</td>\n",
       "      <td>138</td>\n",
       "      <td>297.5</td>\n",
       "      <td>22202</td>\n",
       "      <td>134.00</td>\n",
       "      <td>3</td>\n",
       "      <td>1</td>\n",
       "      <td>1</td>\n",
       "      <td>1</td>\n",
       "      <td>底 21</td>\n",
       "      <td>1.0</td>\n",
       "      <td>2008</td>\n",
       "      <td>1</td>\n",
       "      <td>6</td>\n",
       "      <td>0.273</td>\n",
       "      <td>1.0</td>\n",
       "      <td>0.0</td>\n",
       "      <td>0.0</td>\n",
       "      <td>6</td>\n",
       "      <td>51238.0</td>\n",
       "    </tr>\n",
       "    <tr>\n",
       "      <td>4</td>\n",
       "      <td>https://bj.lianjia.com/chengjiao/101086920653....</td>\n",
       "      <td>1.01087e+11</td>\n",
       "      <td>116.428392</td>\n",
       "      <td>39.886229</td>\n",
       "      <td>1.111030e+12</td>\n",
       "      <td>2016/8/28</td>\n",
       "      <td>927.0</td>\n",
       "      <td>286</td>\n",
       "      <td>392.0</td>\n",
       "      <td>48396</td>\n",
       "      <td>81.00</td>\n",
       "      <td>2</td>\n",
       "      <td>1</td>\n",
       "      <td>1</td>\n",
       "      <td>1</td>\n",
       "      <td>中 6</td>\n",
       "      <td>4.0</td>\n",
       "      <td>1960</td>\n",
       "      <td>2</td>\n",
       "      <td>2</td>\n",
       "      <td>0.333</td>\n",
       "      <td>0.0</td>\n",
       "      <td>1.0</td>\n",
       "      <td>1.0</td>\n",
       "      <td>1</td>\n",
       "      <td>62588.0</td>\n",
       "    </tr>\n",
       "  </tbody>\n",
       "</table>\n",
       "</div>"
      ],
      "text/plain": [
       "                                                 url           id         Lng  \\\n",
       "0  https://bj.lianjia.com/chengjiao/101084782030....  1.01085e+11  116.475489   \n",
       "1  https://bj.lianjia.com/chengjiao/101086012217....  1.01086e+11  116.453917   \n",
       "2  https://bj.lianjia.com/chengjiao/101086041636....  1.01086e+11  116.561978   \n",
       "3  https://bj.lianjia.com/chengjiao/101086406841....  1.01086e+11  116.438010   \n",
       "4  https://bj.lianjia.com/chengjiao/101086920653....  1.01087e+11  116.428392   \n",
       "\n",
       "         Lat           Cid   tradeTime     DOM  followers  totalPrice  price  \\\n",
       "0  40.019520  1.111030e+12    2016/8/9  1464.0        106       415.0  31680   \n",
       "1  39.881534  1.111030e+12   2016/7/28   903.0        126       575.0  43436   \n",
       "2  39.877145  1.111040e+12  2016/12/11  1271.0         48      1030.0  52021   \n",
       "3  40.076114  1.111040e+12   2016/9/30   965.0        138       297.5  22202   \n",
       "4  39.886229  1.111030e+12   2016/8/28   927.0        286       392.0  48396   \n",
       "\n",
       "   square livingRoom drawingRoom  kitchen bathRoom floor  buildingType  \\\n",
       "0  131.00          2           1        1        1  高 26           1.0   \n",
       "1  132.38          2           2        1        2  高 22           1.0   \n",
       "2  198.00          3           2        1        3   中 4           4.0   \n",
       "3  134.00          3           1        1        1  底 21           1.0   \n",
       "4   81.00          2           1        1        1   中 6           4.0   \n",
       "\n",
       "  constructionTime  renovationCondition  buildingStructure  ladderRatio  \\\n",
       "0             2005                    3                  6        0.217   \n",
       "1             2004                    4                  6        0.667   \n",
       "2             2005                    3                  6        0.500   \n",
       "3             2008                    1                  6        0.273   \n",
       "4             1960                    2                  2        0.333   \n",
       "\n",
       "   elevator  fiveYearsProperty  subway  district  communityAverage  \n",
       "0       1.0                0.0     1.0         7           56021.0  \n",
       "1       1.0                1.0     0.0         7           71539.0  \n",
       "2       1.0                0.0     0.0         7           48160.0  \n",
       "3       1.0                0.0     0.0         6           51238.0  \n",
       "4       0.0                1.0     1.0         1           62588.0  "
      ]
     },
     "execution_count": 11,
     "metadata": {},
     "output_type": "execute_result"
    }
   ],
   "source": [
    "df.head()"
   ]
  },
  {
   "cell_type": "markdown",
   "metadata": {},
   "source": [
    "check every features‘ statistic values"
   ]
  },
  {
   "cell_type": "code",
   "execution_count": 12,
   "metadata": {
    "scrolled": true
   },
   "outputs": [
    {
     "data": {
      "text/html": [
       "<div>\n",
       "<style scoped>\n",
       "    .dataframe tbody tr th:only-of-type {\n",
       "        vertical-align: middle;\n",
       "    }\n",
       "\n",
       "    .dataframe tbody tr th {\n",
       "        vertical-align: top;\n",
       "    }\n",
       "\n",
       "    .dataframe thead th {\n",
       "        text-align: right;\n",
       "    }\n",
       "</style>\n",
       "<table border=\"1\" class=\"dataframe\">\n",
       "  <thead>\n",
       "    <tr style=\"text-align: right;\">\n",
       "      <th></th>\n",
       "      <th>Lng</th>\n",
       "      <th>Lat</th>\n",
       "      <th>Cid</th>\n",
       "      <th>DOM</th>\n",
       "      <th>followers</th>\n",
       "      <th>totalPrice</th>\n",
       "      <th>price</th>\n",
       "      <th>square</th>\n",
       "      <th>kitchen</th>\n",
       "      <th>buildingType</th>\n",
       "      <th>renovationCondition</th>\n",
       "      <th>buildingStructure</th>\n",
       "      <th>ladderRatio</th>\n",
       "      <th>elevator</th>\n",
       "      <th>fiveYearsProperty</th>\n",
       "      <th>subway</th>\n",
       "      <th>district</th>\n",
       "      <th>communityAverage</th>\n",
       "    </tr>\n",
       "  </thead>\n",
       "  <tbody>\n",
       "    <tr>\n",
       "      <td>count</td>\n",
       "      <td>318851.000000</td>\n",
       "      <td>318851.000000</td>\n",
       "      <td>3.188510e+05</td>\n",
       "      <td>160874.000000</td>\n",
       "      <td>318851.000000</td>\n",
       "      <td>318851.000000</td>\n",
       "      <td>318851.000000</td>\n",
       "      <td>318851.000000</td>\n",
       "      <td>318851.000000</td>\n",
       "      <td>316830.000000</td>\n",
       "      <td>318851.000000</td>\n",
       "      <td>318851.000000</td>\n",
       "      <td>3.188510e+05</td>\n",
       "      <td>318819.000000</td>\n",
       "      <td>318819.000000</td>\n",
       "      <td>318819.000000</td>\n",
       "      <td>318851.000000</td>\n",
       "      <td>318388.000000</td>\n",
       "    </tr>\n",
       "    <tr>\n",
       "      <td>mean</td>\n",
       "      <td>116.418459</td>\n",
       "      <td>39.949591</td>\n",
       "      <td>1.129116e+12</td>\n",
       "      <td>28.822339</td>\n",
       "      <td>16.731508</td>\n",
       "      <td>349.030201</td>\n",
       "      <td>43530.436379</td>\n",
       "      <td>83.240597</td>\n",
       "      <td>0.994599</td>\n",
       "      <td>3.009790</td>\n",
       "      <td>2.606330</td>\n",
       "      <td>4.451026</td>\n",
       "      <td>6.316486e+01</td>\n",
       "      <td>0.577055</td>\n",
       "      <td>0.645601</td>\n",
       "      <td>0.601112</td>\n",
       "      <td>6.763564</td>\n",
       "      <td>63682.446305</td>\n",
       "    </tr>\n",
       "    <tr>\n",
       "      <td>std</td>\n",
       "      <td>0.112054</td>\n",
       "      <td>0.091983</td>\n",
       "      <td>2.363446e+12</td>\n",
       "      <td>50.237343</td>\n",
       "      <td>34.209185</td>\n",
       "      <td>230.780778</td>\n",
       "      <td>21709.024204</td>\n",
       "      <td>37.234661</td>\n",
       "      <td>0.109609</td>\n",
       "      <td>1.269857</td>\n",
       "      <td>1.311739</td>\n",
       "      <td>1.901753</td>\n",
       "      <td>2.506851e+04</td>\n",
       "      <td>0.494028</td>\n",
       "      <td>0.478331</td>\n",
       "      <td>0.489670</td>\n",
       "      <td>2.812616</td>\n",
       "      <td>22329.215447</td>\n",
       "    </tr>\n",
       "    <tr>\n",
       "      <td>min</td>\n",
       "      <td>116.072514</td>\n",
       "      <td>39.627030</td>\n",
       "      <td>1.111030e+12</td>\n",
       "      <td>1.000000</td>\n",
       "      <td>0.000000</td>\n",
       "      <td>0.100000</td>\n",
       "      <td>1.000000</td>\n",
       "      <td>6.900000</td>\n",
       "      <td>0.000000</td>\n",
       "      <td>0.048000</td>\n",
       "      <td>0.000000</td>\n",
       "      <td>0.000000</td>\n",
       "      <td>0.000000e+00</td>\n",
       "      <td>0.000000</td>\n",
       "      <td>0.000000</td>\n",
       "      <td>0.000000</td>\n",
       "      <td>1.000000</td>\n",
       "      <td>10847.000000</td>\n",
       "    </tr>\n",
       "    <tr>\n",
       "      <td>25%</td>\n",
       "      <td>116.344985</td>\n",
       "      <td>39.893200</td>\n",
       "      <td>1.111030e+12</td>\n",
       "      <td>1.000000</td>\n",
       "      <td>0.000000</td>\n",
       "      <td>205.000000</td>\n",
       "      <td>28050.000000</td>\n",
       "      <td>57.900000</td>\n",
       "      <td>1.000000</td>\n",
       "      <td>1.000000</td>\n",
       "      <td>1.000000</td>\n",
       "      <td>2.000000</td>\n",
       "      <td>2.500000e-01</td>\n",
       "      <td>0.000000</td>\n",
       "      <td>0.000000</td>\n",
       "      <td>0.000000</td>\n",
       "      <td>6.000000</td>\n",
       "      <td>46339.000000</td>\n",
       "    </tr>\n",
       "    <tr>\n",
       "      <td>50%</td>\n",
       "      <td>116.416780</td>\n",
       "      <td>39.934527</td>\n",
       "      <td>1.111030e+12</td>\n",
       "      <td>6.000000</td>\n",
       "      <td>5.000000</td>\n",
       "      <td>294.000000</td>\n",
       "      <td>38737.000000</td>\n",
       "      <td>74.260000</td>\n",
       "      <td>1.000000</td>\n",
       "      <td>4.000000</td>\n",
       "      <td>3.000000</td>\n",
       "      <td>6.000000</td>\n",
       "      <td>3.330000e-01</td>\n",
       "      <td>1.000000</td>\n",
       "      <td>1.000000</td>\n",
       "      <td>1.000000</td>\n",
       "      <td>7.000000</td>\n",
       "      <td>59015.000000</td>\n",
       "    </tr>\n",
       "    <tr>\n",
       "      <td>75%</td>\n",
       "      <td>116.477581</td>\n",
       "      <td>40.003018</td>\n",
       "      <td>1.111030e+12</td>\n",
       "      <td>37.000000</td>\n",
       "      <td>18.000000</td>\n",
       "      <td>425.500000</td>\n",
       "      <td>53819.500000</td>\n",
       "      <td>98.710000</td>\n",
       "      <td>1.000000</td>\n",
       "      <td>4.000000</td>\n",
       "      <td>4.000000</td>\n",
       "      <td>6.000000</td>\n",
       "      <td>5.000000e-01</td>\n",
       "      <td>1.000000</td>\n",
       "      <td>1.000000</td>\n",
       "      <td>1.000000</td>\n",
       "      <td>8.000000</td>\n",
       "      <td>75950.000000</td>\n",
       "    </tr>\n",
       "    <tr>\n",
       "      <td>max</td>\n",
       "      <td>116.732378</td>\n",
       "      <td>40.252758</td>\n",
       "      <td>1.114620e+15</td>\n",
       "      <td>1677.000000</td>\n",
       "      <td>1143.000000</td>\n",
       "      <td>18130.000000</td>\n",
       "      <td>156250.000000</td>\n",
       "      <td>1745.500000</td>\n",
       "      <td>4.000000</td>\n",
       "      <td>4.000000</td>\n",
       "      <td>4.000000</td>\n",
       "      <td>6.000000</td>\n",
       "      <td>1.000940e+07</td>\n",
       "      <td>1.000000</td>\n",
       "      <td>1.000000</td>\n",
       "      <td>1.000000</td>\n",
       "      <td>13.000000</td>\n",
       "      <td>183109.000000</td>\n",
       "    </tr>\n",
       "  </tbody>\n",
       "</table>\n",
       "</div>"
      ],
      "text/plain": [
       "                 Lng            Lat           Cid            DOM  \\\n",
       "count  318851.000000  318851.000000  3.188510e+05  160874.000000   \n",
       "mean      116.418459      39.949591  1.129116e+12      28.822339   \n",
       "std         0.112054       0.091983  2.363446e+12      50.237343   \n",
       "min       116.072514      39.627030  1.111030e+12       1.000000   \n",
       "25%       116.344985      39.893200  1.111030e+12       1.000000   \n",
       "50%       116.416780      39.934527  1.111030e+12       6.000000   \n",
       "75%       116.477581      40.003018  1.111030e+12      37.000000   \n",
       "max       116.732378      40.252758  1.114620e+15    1677.000000   \n",
       "\n",
       "           followers     totalPrice          price         square  \\\n",
       "count  318851.000000  318851.000000  318851.000000  318851.000000   \n",
       "mean       16.731508     349.030201   43530.436379      83.240597   \n",
       "std        34.209185     230.780778   21709.024204      37.234661   \n",
       "min         0.000000       0.100000       1.000000       6.900000   \n",
       "25%         0.000000     205.000000   28050.000000      57.900000   \n",
       "50%         5.000000     294.000000   38737.000000      74.260000   \n",
       "75%        18.000000     425.500000   53819.500000      98.710000   \n",
       "max      1143.000000   18130.000000  156250.000000    1745.500000   \n",
       "\n",
       "             kitchen   buildingType  renovationCondition  buildingStructure  \\\n",
       "count  318851.000000  316830.000000        318851.000000      318851.000000   \n",
       "mean        0.994599       3.009790             2.606330           4.451026   \n",
       "std         0.109609       1.269857             1.311739           1.901753   \n",
       "min         0.000000       0.048000             0.000000           0.000000   \n",
       "25%         1.000000       1.000000             1.000000           2.000000   \n",
       "50%         1.000000       4.000000             3.000000           6.000000   \n",
       "75%         1.000000       4.000000             4.000000           6.000000   \n",
       "max         4.000000       4.000000             4.000000           6.000000   \n",
       "\n",
       "        ladderRatio       elevator  fiveYearsProperty         subway  \\\n",
       "count  3.188510e+05  318819.000000      318819.000000  318819.000000   \n",
       "mean   6.316486e+01       0.577055           0.645601       0.601112   \n",
       "std    2.506851e+04       0.494028           0.478331       0.489670   \n",
       "min    0.000000e+00       0.000000           0.000000       0.000000   \n",
       "25%    2.500000e-01       0.000000           0.000000       0.000000   \n",
       "50%    3.330000e-01       1.000000           1.000000       1.000000   \n",
       "75%    5.000000e-01       1.000000           1.000000       1.000000   \n",
       "max    1.000940e+07       1.000000           1.000000       1.000000   \n",
       "\n",
       "            district  communityAverage  \n",
       "count  318851.000000     318388.000000  \n",
       "mean        6.763564      63682.446305  \n",
       "std         2.812616      22329.215447  \n",
       "min         1.000000      10847.000000  \n",
       "25%         6.000000      46339.000000  \n",
       "50%         7.000000      59015.000000  \n",
       "75%         8.000000      75950.000000  \n",
       "max        13.000000     183109.000000  "
      ]
     },
     "execution_count": 12,
     "metadata": {},
     "output_type": "execute_result"
    }
   ],
   "source": [
    "df.describe()"
   ]
  },
  {
   "cell_type": "raw",
   "metadata": {},
   "source": [
    "notes:\n",
    "Lng: longitude\n",
    "Lat: latitude\n",
    "DOM: active days in market\n",
    "renovationCondition: decoration condition\n",
    "ladderRatio: number of ladders per resident"
   ]
  },
  {
   "cell_type": "code",
   "execution_count": 7,
   "metadata": {},
   "outputs": [
    {
     "name": "stdout",
     "output_type": "stream",
     "text": [
      "<class 'pandas.core.frame.DataFrame'>\n",
      "RangeIndex: 318851 entries, 0 to 318850\n",
      "Data columns (total 26 columns):\n",
      "url                    318851 non-null object\n",
      "id                     318851 non-null object\n",
      "Lng                    318851 non-null float64\n",
      "Lat                    318851 non-null float64\n",
      "Cid                    318851 non-null float64\n",
      "tradeTime              318851 non-null object\n",
      "DOM                    160874 non-null float64\n",
      "followers              318851 non-null int64\n",
      "totalPrice             318851 non-null float64\n",
      "price                  318851 non-null int64\n",
      "square                 318851 non-null float64\n",
      "livingRoom             318851 non-null object\n",
      "drawingRoom            318851 non-null object\n",
      "kitchen                318851 non-null int64\n",
      "bathRoom               318851 non-null object\n",
      "floor                  318851 non-null object\n",
      "buildingType           316830 non-null float64\n",
      "constructionTime       318851 non-null object\n",
      "renovationCondition    318851 non-null int64\n",
      "buildingStructure      318851 non-null int64\n",
      "ladderRatio            318851 non-null float64\n",
      "elevator               318819 non-null float64\n",
      "fiveYearsProperty      318819 non-null float64\n",
      "subway                 318819 non-null float64\n",
      "district               318851 non-null int64\n",
      "communityAverage       318388 non-null float64\n",
      "dtypes: float64(12), int64(6), object(8)\n",
      "memory usage: 63.2+ MB\n"
     ]
    }
   ],
   "source": [
    "df.info()"
   ]
  },
  {
   "cell_type": "raw",
   "metadata": {},
   "source": [
    "from df.info() we can learn each feature's total non-NAN numbers and its data type.\n",
    "the overall number of rows should be 318851\n",
    "we can know that DOM, buildingType, elevator, subway, communityAverage, fiveYearProperty have NAN values."
   ]
  },
  {
   "cell_type": "markdown",
   "metadata": {},
   "source": [
    "delete rows which are duplicate if have any"
   ]
  },
  {
   "cell_type": "code",
   "execution_count": 8,
   "metadata": {},
   "outputs": [
    {
     "data": {
      "text/html": [
       "<div>\n",
       "<style scoped>\n",
       "    .dataframe tbody tr th:only-of-type {\n",
       "        vertical-align: middle;\n",
       "    }\n",
       "\n",
       "    .dataframe tbody tr th {\n",
       "        vertical-align: top;\n",
       "    }\n",
       "\n",
       "    .dataframe thead th {\n",
       "        text-align: right;\n",
       "    }\n",
       "</style>\n",
       "<table border=\"1\" class=\"dataframe\">\n",
       "  <thead>\n",
       "    <tr style=\"text-align: right;\">\n",
       "      <th></th>\n",
       "      <th>url</th>\n",
       "      <th>id</th>\n",
       "      <th>Lng</th>\n",
       "      <th>Lat</th>\n",
       "      <th>Cid</th>\n",
       "      <th>tradeTime</th>\n",
       "      <th>DOM</th>\n",
       "      <th>followers</th>\n",
       "      <th>totalPrice</th>\n",
       "      <th>price</th>\n",
       "      <th>square</th>\n",
       "      <th>livingRoom</th>\n",
       "      <th>drawingRoom</th>\n",
       "      <th>kitchen</th>\n",
       "      <th>bathRoom</th>\n",
       "      <th>floor</th>\n",
       "      <th>buildingType</th>\n",
       "      <th>constructionTime</th>\n",
       "      <th>renovationCondition</th>\n",
       "      <th>buildingStructure</th>\n",
       "      <th>ladderRatio</th>\n",
       "      <th>elevator</th>\n",
       "      <th>fiveYearsProperty</th>\n",
       "      <th>subway</th>\n",
       "      <th>district</th>\n",
       "      <th>communityAverage</th>\n",
       "    </tr>\n",
       "  </thead>\n",
       "  <tbody>\n",
       "    <tr>\n",
       "      <td>0</td>\n",
       "      <td>https://bj.lianjia.com/chengjiao/101084782030....</td>\n",
       "      <td>1.01085e+11</td>\n",
       "      <td>116.475489</td>\n",
       "      <td>40.019520</td>\n",
       "      <td>1.111030e+12</td>\n",
       "      <td>2016/8/9</td>\n",
       "      <td>1464.0</td>\n",
       "      <td>106</td>\n",
       "      <td>415.0</td>\n",
       "      <td>31680</td>\n",
       "      <td>131.00</td>\n",
       "      <td>2</td>\n",
       "      <td>1</td>\n",
       "      <td>1</td>\n",
       "      <td>1</td>\n",
       "      <td>高 26</td>\n",
       "      <td>1.0</td>\n",
       "      <td>2005</td>\n",
       "      <td>3</td>\n",
       "      <td>6</td>\n",
       "      <td>0.217</td>\n",
       "      <td>1.0</td>\n",
       "      <td>0.0</td>\n",
       "      <td>1.0</td>\n",
       "      <td>7</td>\n",
       "      <td>56021.0</td>\n",
       "    </tr>\n",
       "    <tr>\n",
       "      <td>1</td>\n",
       "      <td>https://bj.lianjia.com/chengjiao/101086012217....</td>\n",
       "      <td>1.01086e+11</td>\n",
       "      <td>116.453917</td>\n",
       "      <td>39.881534</td>\n",
       "      <td>1.111030e+12</td>\n",
       "      <td>2016/7/28</td>\n",
       "      <td>903.0</td>\n",
       "      <td>126</td>\n",
       "      <td>575.0</td>\n",
       "      <td>43436</td>\n",
       "      <td>132.38</td>\n",
       "      <td>2</td>\n",
       "      <td>2</td>\n",
       "      <td>1</td>\n",
       "      <td>2</td>\n",
       "      <td>高 22</td>\n",
       "      <td>1.0</td>\n",
       "      <td>2004</td>\n",
       "      <td>4</td>\n",
       "      <td>6</td>\n",
       "      <td>0.667</td>\n",
       "      <td>1.0</td>\n",
       "      <td>1.0</td>\n",
       "      <td>0.0</td>\n",
       "      <td>7</td>\n",
       "      <td>71539.0</td>\n",
       "    </tr>\n",
       "    <tr>\n",
       "      <td>2</td>\n",
       "      <td>https://bj.lianjia.com/chengjiao/101086041636....</td>\n",
       "      <td>1.01086e+11</td>\n",
       "      <td>116.561978</td>\n",
       "      <td>39.877145</td>\n",
       "      <td>1.111040e+12</td>\n",
       "      <td>2016/12/11</td>\n",
       "      <td>1271.0</td>\n",
       "      <td>48</td>\n",
       "      <td>1030.0</td>\n",
       "      <td>52021</td>\n",
       "      <td>198.00</td>\n",
       "      <td>3</td>\n",
       "      <td>2</td>\n",
       "      <td>1</td>\n",
       "      <td>3</td>\n",
       "      <td>中 4</td>\n",
       "      <td>4.0</td>\n",
       "      <td>2005</td>\n",
       "      <td>3</td>\n",
       "      <td>6</td>\n",
       "      <td>0.500</td>\n",
       "      <td>1.0</td>\n",
       "      <td>0.0</td>\n",
       "      <td>0.0</td>\n",
       "      <td>7</td>\n",
       "      <td>48160.0</td>\n",
       "    </tr>\n",
       "    <tr>\n",
       "      <td>3</td>\n",
       "      <td>https://bj.lianjia.com/chengjiao/101086406841....</td>\n",
       "      <td>1.01086e+11</td>\n",
       "      <td>116.438010</td>\n",
       "      <td>40.076114</td>\n",
       "      <td>1.111040e+12</td>\n",
       "      <td>2016/9/30</td>\n",
       "      <td>965.0</td>\n",
       "      <td>138</td>\n",
       "      <td>297.5</td>\n",
       "      <td>22202</td>\n",
       "      <td>134.00</td>\n",
       "      <td>3</td>\n",
       "      <td>1</td>\n",
       "      <td>1</td>\n",
       "      <td>1</td>\n",
       "      <td>底 21</td>\n",
       "      <td>1.0</td>\n",
       "      <td>2008</td>\n",
       "      <td>1</td>\n",
       "      <td>6</td>\n",
       "      <td>0.273</td>\n",
       "      <td>1.0</td>\n",
       "      <td>0.0</td>\n",
       "      <td>0.0</td>\n",
       "      <td>6</td>\n",
       "      <td>51238.0</td>\n",
       "    </tr>\n",
       "    <tr>\n",
       "      <td>4</td>\n",
       "      <td>https://bj.lianjia.com/chengjiao/101086920653....</td>\n",
       "      <td>1.01087e+11</td>\n",
       "      <td>116.428392</td>\n",
       "      <td>39.886229</td>\n",
       "      <td>1.111030e+12</td>\n",
       "      <td>2016/8/28</td>\n",
       "      <td>927.0</td>\n",
       "      <td>286</td>\n",
       "      <td>392.0</td>\n",
       "      <td>48396</td>\n",
       "      <td>81.00</td>\n",
       "      <td>2</td>\n",
       "      <td>1</td>\n",
       "      <td>1</td>\n",
       "      <td>1</td>\n",
       "      <td>中 6</td>\n",
       "      <td>4.0</td>\n",
       "      <td>1960</td>\n",
       "      <td>2</td>\n",
       "      <td>2</td>\n",
       "      <td>0.333</td>\n",
       "      <td>0.0</td>\n",
       "      <td>1.0</td>\n",
       "      <td>1.0</td>\n",
       "      <td>1</td>\n",
       "      <td>62588.0</td>\n",
       "    </tr>\n",
       "    <tr>\n",
       "      <td>...</td>\n",
       "      <td>...</td>\n",
       "      <td>...</td>\n",
       "      <td>...</td>\n",
       "      <td>...</td>\n",
       "      <td>...</td>\n",
       "      <td>...</td>\n",
       "      <td>...</td>\n",
       "      <td>...</td>\n",
       "      <td>...</td>\n",
       "      <td>...</td>\n",
       "      <td>...</td>\n",
       "      <td>...</td>\n",
       "      <td>...</td>\n",
       "      <td>...</td>\n",
       "      <td>...</td>\n",
       "      <td>...</td>\n",
       "      <td>...</td>\n",
       "      <td>...</td>\n",
       "      <td>...</td>\n",
       "      <td>...</td>\n",
       "      <td>...</td>\n",
       "      <td>...</td>\n",
       "      <td>...</td>\n",
       "      <td>...</td>\n",
       "      <td>...</td>\n",
       "      <td>...</td>\n",
       "    </tr>\n",
       "    <tr>\n",
       "      <td>318846</td>\n",
       "      <td>https://bj.lianjia.com/chengjiao/BJYZ92311192....</td>\n",
       "      <td>BJYZ92311192</td>\n",
       "      <td>116.546899</td>\n",
       "      <td>39.755236</td>\n",
       "      <td>1.111030e+12</td>\n",
       "      <td>2016/6/10</td>\n",
       "      <td>1.0</td>\n",
       "      <td>8</td>\n",
       "      <td>350.0</td>\n",
       "      <td>20580</td>\n",
       "      <td>170.07</td>\n",
       "      <td>3</td>\n",
       "      <td>2</td>\n",
       "      <td>1</td>\n",
       "      <td>2</td>\n",
       "      <td>中 5</td>\n",
       "      <td>4.0</td>\n",
       "      <td>2003</td>\n",
       "      <td>1</td>\n",
       "      <td>6</td>\n",
       "      <td>0.333</td>\n",
       "      <td>0.0</td>\n",
       "      <td>1.0</td>\n",
       "      <td>0.0</td>\n",
       "      <td>3</td>\n",
       "      <td>36545.0</td>\n",
       "    </tr>\n",
       "    <tr>\n",
       "      <td>318847</td>\n",
       "      <td>https://bj.lianjia.com/chengjiao/BJYZ92320171....</td>\n",
       "      <td>BJYZ92320171</td>\n",
       "      <td>116.497474</td>\n",
       "      <td>39.810115</td>\n",
       "      <td>1.111030e+12</td>\n",
       "      <td>2016/6/10</td>\n",
       "      <td>NaN</td>\n",
       "      <td>1</td>\n",
       "      <td>108.8</td>\n",
       "      <td>31006</td>\n",
       "      <td>35.09</td>\n",
       "      <td>1</td>\n",
       "      <td>0</td>\n",
       "      <td>1</td>\n",
       "      <td>1</td>\n",
       "      <td>中 24</td>\n",
       "      <td>1.0</td>\n",
       "      <td>2009</td>\n",
       "      <td>1</td>\n",
       "      <td>6</td>\n",
       "      <td>0.222</td>\n",
       "      <td>1.0</td>\n",
       "      <td>0.0</td>\n",
       "      <td>1.0</td>\n",
       "      <td>3</td>\n",
       "      <td>54282.0</td>\n",
       "    </tr>\n",
       "    <tr>\n",
       "      <td>318848</td>\n",
       "      <td>https://bj.lianjia.com/chengjiao/BJYZ92324217....</td>\n",
       "      <td>BJYZ92324217</td>\n",
       "      <td>116.497256</td>\n",
       "      <td>39.804081</td>\n",
       "      <td>1.111030e+12</td>\n",
       "      <td>2016/6/5</td>\n",
       "      <td>1.0</td>\n",
       "      <td>2</td>\n",
       "      <td>359.0</td>\n",
       "      <td>35138</td>\n",
       "      <td>102.17</td>\n",
       "      <td>2</td>\n",
       "      <td>2</td>\n",
       "      <td>1</td>\n",
       "      <td>2</td>\n",
       "      <td>中 7</td>\n",
       "      <td>4.0</td>\n",
       "      <td>2000</td>\n",
       "      <td>3</td>\n",
       "      <td>6</td>\n",
       "      <td>0.500</td>\n",
       "      <td>1.0</td>\n",
       "      <td>1.0</td>\n",
       "      <td>0.0</td>\n",
       "      <td>3</td>\n",
       "      <td>46927.0</td>\n",
       "    </tr>\n",
       "    <tr>\n",
       "      <td>318849</td>\n",
       "      <td>https://bj.lianjia.com/chengjiao/BJYZ92333313....</td>\n",
       "      <td>BJYZ92333313</td>\n",
       "      <td>116.501794</td>\n",
       "      <td>39.799347</td>\n",
       "      <td>1.111030e+12</td>\n",
       "      <td>2016/6/12</td>\n",
       "      <td>NaN</td>\n",
       "      <td>4</td>\n",
       "      <td>720.0</td>\n",
       "      <td>40373</td>\n",
       "      <td>178.34</td>\n",
       "      <td>4</td>\n",
       "      <td>2</td>\n",
       "      <td>1</td>\n",
       "      <td>2</td>\n",
       "      <td>中 5</td>\n",
       "      <td>4.0</td>\n",
       "      <td>2003</td>\n",
       "      <td>4</td>\n",
       "      <td>2</td>\n",
       "      <td>0.500</td>\n",
       "      <td>0.0</td>\n",
       "      <td>1.0</td>\n",
       "      <td>0.0</td>\n",
       "      <td>3</td>\n",
       "      <td>54842.0</td>\n",
       "    </tr>\n",
       "    <tr>\n",
       "      <td>318850</td>\n",
       "      <td>https://bj.lianjia.com/chengjiao/BJYZ92363553....</td>\n",
       "      <td>BJYZ92363553</td>\n",
       "      <td>116.497474</td>\n",
       "      <td>39.810115</td>\n",
       "      <td>1.111030e+12</td>\n",
       "      <td>2016/6/11</td>\n",
       "      <td>1.0</td>\n",
       "      <td>0</td>\n",
       "      <td>450.0</td>\n",
       "      <td>48675</td>\n",
       "      <td>92.45</td>\n",
       "      <td>2</td>\n",
       "      <td>1</td>\n",
       "      <td>1</td>\n",
       "      <td>1</td>\n",
       "      <td>中 17</td>\n",
       "      <td>4.0</td>\n",
       "      <td>未知</td>\n",
       "      <td>4</td>\n",
       "      <td>6</td>\n",
       "      <td>1.000</td>\n",
       "      <td>1.0</td>\n",
       "      <td>0.0</td>\n",
       "      <td>1.0</td>\n",
       "      <td>3</td>\n",
       "      <td>54282.0</td>\n",
       "    </tr>\n",
       "  </tbody>\n",
       "</table>\n",
       "<p>318851 rows × 26 columns</p>\n",
       "</div>"
      ],
      "text/plain": [
       "                                                      url            id  \\\n",
       "0       https://bj.lianjia.com/chengjiao/101084782030....   1.01085e+11   \n",
       "1       https://bj.lianjia.com/chengjiao/101086012217....   1.01086e+11   \n",
       "2       https://bj.lianjia.com/chengjiao/101086041636....   1.01086e+11   \n",
       "3       https://bj.lianjia.com/chengjiao/101086406841....   1.01086e+11   \n",
       "4       https://bj.lianjia.com/chengjiao/101086920653....   1.01087e+11   \n",
       "...                                                   ...           ...   \n",
       "318846  https://bj.lianjia.com/chengjiao/BJYZ92311192....  BJYZ92311192   \n",
       "318847  https://bj.lianjia.com/chengjiao/BJYZ92320171....  BJYZ92320171   \n",
       "318848  https://bj.lianjia.com/chengjiao/BJYZ92324217....  BJYZ92324217   \n",
       "318849  https://bj.lianjia.com/chengjiao/BJYZ92333313....  BJYZ92333313   \n",
       "318850  https://bj.lianjia.com/chengjiao/BJYZ92363553....  BJYZ92363553   \n",
       "\n",
       "               Lng        Lat           Cid   tradeTime     DOM  followers  \\\n",
       "0       116.475489  40.019520  1.111030e+12    2016/8/9  1464.0        106   \n",
       "1       116.453917  39.881534  1.111030e+12   2016/7/28   903.0        126   \n",
       "2       116.561978  39.877145  1.111040e+12  2016/12/11  1271.0         48   \n",
       "3       116.438010  40.076114  1.111040e+12   2016/9/30   965.0        138   \n",
       "4       116.428392  39.886229  1.111030e+12   2016/8/28   927.0        286   \n",
       "...            ...        ...           ...         ...     ...        ...   \n",
       "318846  116.546899  39.755236  1.111030e+12   2016/6/10     1.0          8   \n",
       "318847  116.497474  39.810115  1.111030e+12   2016/6/10     NaN          1   \n",
       "318848  116.497256  39.804081  1.111030e+12    2016/6/5     1.0          2   \n",
       "318849  116.501794  39.799347  1.111030e+12   2016/6/12     NaN          4   \n",
       "318850  116.497474  39.810115  1.111030e+12   2016/6/11     1.0          0   \n",
       "\n",
       "        totalPrice  price  square livingRoom drawingRoom  kitchen bathRoom  \\\n",
       "0            415.0  31680  131.00          2           1        1        1   \n",
       "1            575.0  43436  132.38          2           2        1        2   \n",
       "2           1030.0  52021  198.00          3           2        1        3   \n",
       "3            297.5  22202  134.00          3           1        1        1   \n",
       "4            392.0  48396   81.00          2           1        1        1   \n",
       "...            ...    ...     ...        ...         ...      ...      ...   \n",
       "318846       350.0  20580  170.07          3           2        1        2   \n",
       "318847       108.8  31006   35.09          1           0        1        1   \n",
       "318848       359.0  35138  102.17          2           2        1        2   \n",
       "318849       720.0  40373  178.34          4           2        1        2   \n",
       "318850       450.0  48675   92.45          2           1        1        1   \n",
       "\n",
       "       floor  buildingType constructionTime  renovationCondition  \\\n",
       "0       高 26           1.0             2005                    3   \n",
       "1       高 22           1.0             2004                    4   \n",
       "2        中 4           4.0             2005                    3   \n",
       "3       底 21           1.0             2008                    1   \n",
       "4        中 6           4.0             1960                    2   \n",
       "...      ...           ...              ...                  ...   \n",
       "318846   中 5           4.0             2003                    1   \n",
       "318847  中 24           1.0             2009                    1   \n",
       "318848   中 7           4.0             2000                    3   \n",
       "318849   中 5           4.0             2003                    4   \n",
       "318850  中 17           4.0               未知                    4   \n",
       "\n",
       "        buildingStructure  ladderRatio  elevator  fiveYearsProperty  subway  \\\n",
       "0                       6        0.217       1.0                0.0     1.0   \n",
       "1                       6        0.667       1.0                1.0     0.0   \n",
       "2                       6        0.500       1.0                0.0     0.0   \n",
       "3                       6        0.273       1.0                0.0     0.0   \n",
       "4                       2        0.333       0.0                1.0     1.0   \n",
       "...                   ...          ...       ...                ...     ...   \n",
       "318846                  6        0.333       0.0                1.0     0.0   \n",
       "318847                  6        0.222       1.0                0.0     1.0   \n",
       "318848                  6        0.500       1.0                1.0     0.0   \n",
       "318849                  2        0.500       0.0                1.0     0.0   \n",
       "318850                  6        1.000       1.0                0.0     1.0   \n",
       "\n",
       "        district  communityAverage  \n",
       "0              7           56021.0  \n",
       "1              7           71539.0  \n",
       "2              7           48160.0  \n",
       "3              6           51238.0  \n",
       "4              1           62588.0  \n",
       "...          ...               ...  \n",
       "318846         3           36545.0  \n",
       "318847         3           54282.0  \n",
       "318848         3           46927.0  \n",
       "318849         3           54842.0  \n",
       "318850         3           54282.0  \n",
       "\n",
       "[318851 rows x 26 columns]"
      ]
     },
     "execution_count": 8,
     "metadata": {},
     "output_type": "execute_result"
    }
   ],
   "source": [
    "df.drop_duplicates()"
   ]
  },
  {
   "cell_type": "markdown",
   "metadata": {},
   "source": [
    "re-order the columns of df for the convinience of reading\n",
    "we delete some features(url, id, Cid, DOM), because I judge these feature are irrelevant to house's total price, so we don't need these to analyze house's total price"
   ]
  },
  {
   "cell_type": "code",
   "execution_count": 9,
   "metadata": {},
   "outputs": [],
   "source": [
    "columns = ['Lng', 'Lat', 'tradeTime', 'followers', 'square', 'livingRoom', 'drawingRoom', 'kitchen', 'bathRoom', 'floor', 'buildingType', 'buildingStructure', 'constructionTime', 'renovationCondition', 'ladderRatio', 'elevator', 'subway', 'district', 'communityAverage', 'fiveYearsProperty', 'price', 'totalPrice']\n",
    "df = pd.DataFrame(df, columns = columns)"
   ]
  },
  {
   "cell_type": "markdown",
   "metadata": {},
   "source": [
    "re-check the first five rows of the data set to see the colunms' order, we can find some features are deleted and the remaining features' order is changed. the order is more readable. "
   ]
  },
  {
   "cell_type": "code",
   "execution_count": 10,
   "metadata": {},
   "outputs": [
    {
     "data": {
      "text/html": [
       "<div>\n",
       "<style scoped>\n",
       "    .dataframe tbody tr th:only-of-type {\n",
       "        vertical-align: middle;\n",
       "    }\n",
       "\n",
       "    .dataframe tbody tr th {\n",
       "        vertical-align: top;\n",
       "    }\n",
       "\n",
       "    .dataframe thead th {\n",
       "        text-align: right;\n",
       "    }\n",
       "</style>\n",
       "<table border=\"1\" class=\"dataframe\">\n",
       "  <thead>\n",
       "    <tr style=\"text-align: right;\">\n",
       "      <th></th>\n",
       "      <th>Lng</th>\n",
       "      <th>Lat</th>\n",
       "      <th>tradeTime</th>\n",
       "      <th>followers</th>\n",
       "      <th>square</th>\n",
       "      <th>livingRoom</th>\n",
       "      <th>drawingRoom</th>\n",
       "      <th>kitchen</th>\n",
       "      <th>bathRoom</th>\n",
       "      <th>floor</th>\n",
       "      <th>buildingType</th>\n",
       "      <th>buildingStructure</th>\n",
       "      <th>constructionTime</th>\n",
       "      <th>renovationCondition</th>\n",
       "      <th>ladderRatio</th>\n",
       "      <th>elevator</th>\n",
       "      <th>subway</th>\n",
       "      <th>district</th>\n",
       "      <th>communityAverage</th>\n",
       "      <th>fiveYearsProperty</th>\n",
       "      <th>price</th>\n",
       "      <th>totalPrice</th>\n",
       "    </tr>\n",
       "  </thead>\n",
       "  <tbody>\n",
       "    <tr>\n",
       "      <td>0</td>\n",
       "      <td>116.475489</td>\n",
       "      <td>40.019520</td>\n",
       "      <td>2016/8/9</td>\n",
       "      <td>106</td>\n",
       "      <td>131.00</td>\n",
       "      <td>2</td>\n",
       "      <td>1</td>\n",
       "      <td>1</td>\n",
       "      <td>1</td>\n",
       "      <td>高 26</td>\n",
       "      <td>1.0</td>\n",
       "      <td>6</td>\n",
       "      <td>2005</td>\n",
       "      <td>3</td>\n",
       "      <td>0.217</td>\n",
       "      <td>1.0</td>\n",
       "      <td>1.0</td>\n",
       "      <td>7</td>\n",
       "      <td>56021.0</td>\n",
       "      <td>0.0</td>\n",
       "      <td>31680</td>\n",
       "      <td>415.0</td>\n",
       "    </tr>\n",
       "    <tr>\n",
       "      <td>1</td>\n",
       "      <td>116.453917</td>\n",
       "      <td>39.881534</td>\n",
       "      <td>2016/7/28</td>\n",
       "      <td>126</td>\n",
       "      <td>132.38</td>\n",
       "      <td>2</td>\n",
       "      <td>2</td>\n",
       "      <td>1</td>\n",
       "      <td>2</td>\n",
       "      <td>高 22</td>\n",
       "      <td>1.0</td>\n",
       "      <td>6</td>\n",
       "      <td>2004</td>\n",
       "      <td>4</td>\n",
       "      <td>0.667</td>\n",
       "      <td>1.0</td>\n",
       "      <td>0.0</td>\n",
       "      <td>7</td>\n",
       "      <td>71539.0</td>\n",
       "      <td>1.0</td>\n",
       "      <td>43436</td>\n",
       "      <td>575.0</td>\n",
       "    </tr>\n",
       "    <tr>\n",
       "      <td>2</td>\n",
       "      <td>116.561978</td>\n",
       "      <td>39.877145</td>\n",
       "      <td>2016/12/11</td>\n",
       "      <td>48</td>\n",
       "      <td>198.00</td>\n",
       "      <td>3</td>\n",
       "      <td>2</td>\n",
       "      <td>1</td>\n",
       "      <td>3</td>\n",
       "      <td>中 4</td>\n",
       "      <td>4.0</td>\n",
       "      <td>6</td>\n",
       "      <td>2005</td>\n",
       "      <td>3</td>\n",
       "      <td>0.500</td>\n",
       "      <td>1.0</td>\n",
       "      <td>0.0</td>\n",
       "      <td>7</td>\n",
       "      <td>48160.0</td>\n",
       "      <td>0.0</td>\n",
       "      <td>52021</td>\n",
       "      <td>1030.0</td>\n",
       "    </tr>\n",
       "    <tr>\n",
       "      <td>3</td>\n",
       "      <td>116.438010</td>\n",
       "      <td>40.076114</td>\n",
       "      <td>2016/9/30</td>\n",
       "      <td>138</td>\n",
       "      <td>134.00</td>\n",
       "      <td>3</td>\n",
       "      <td>1</td>\n",
       "      <td>1</td>\n",
       "      <td>1</td>\n",
       "      <td>底 21</td>\n",
       "      <td>1.0</td>\n",
       "      <td>6</td>\n",
       "      <td>2008</td>\n",
       "      <td>1</td>\n",
       "      <td>0.273</td>\n",
       "      <td>1.0</td>\n",
       "      <td>0.0</td>\n",
       "      <td>6</td>\n",
       "      <td>51238.0</td>\n",
       "      <td>0.0</td>\n",
       "      <td>22202</td>\n",
       "      <td>297.5</td>\n",
       "    </tr>\n",
       "    <tr>\n",
       "      <td>4</td>\n",
       "      <td>116.428392</td>\n",
       "      <td>39.886229</td>\n",
       "      <td>2016/8/28</td>\n",
       "      <td>286</td>\n",
       "      <td>81.00</td>\n",
       "      <td>2</td>\n",
       "      <td>1</td>\n",
       "      <td>1</td>\n",
       "      <td>1</td>\n",
       "      <td>中 6</td>\n",
       "      <td>4.0</td>\n",
       "      <td>2</td>\n",
       "      <td>1960</td>\n",
       "      <td>2</td>\n",
       "      <td>0.333</td>\n",
       "      <td>0.0</td>\n",
       "      <td>1.0</td>\n",
       "      <td>1</td>\n",
       "      <td>62588.0</td>\n",
       "      <td>1.0</td>\n",
       "      <td>48396</td>\n",
       "      <td>392.0</td>\n",
       "    </tr>\n",
       "  </tbody>\n",
       "</table>\n",
       "</div>"
      ],
      "text/plain": [
       "          Lng        Lat   tradeTime  followers  square livingRoom  \\\n",
       "0  116.475489  40.019520    2016/8/9        106  131.00          2   \n",
       "1  116.453917  39.881534   2016/7/28        126  132.38          2   \n",
       "2  116.561978  39.877145  2016/12/11         48  198.00          3   \n",
       "3  116.438010  40.076114   2016/9/30        138  134.00          3   \n",
       "4  116.428392  39.886229   2016/8/28        286   81.00          2   \n",
       "\n",
       "  drawingRoom  kitchen bathRoom floor  buildingType  buildingStructure  \\\n",
       "0           1        1        1  高 26           1.0                  6   \n",
       "1           2        1        2  高 22           1.0                  6   \n",
       "2           2        1        3   中 4           4.0                  6   \n",
       "3           1        1        1  底 21           1.0                  6   \n",
       "4           1        1        1   中 6           4.0                  2   \n",
       "\n",
       "  constructionTime  renovationCondition  ladderRatio  elevator  subway  \\\n",
       "0             2005                    3        0.217       1.0     1.0   \n",
       "1             2004                    4        0.667       1.0     0.0   \n",
       "2             2005                    3        0.500       1.0     0.0   \n",
       "3             2008                    1        0.273       1.0     0.0   \n",
       "4             1960                    2        0.333       0.0     1.0   \n",
       "\n",
       "   district  communityAverage  fiveYearsProperty  price  totalPrice  \n",
       "0         7           56021.0                0.0  31680       415.0  \n",
       "1         7           71539.0                1.0  43436       575.0  \n",
       "2         7           48160.0                0.0  52021      1030.0  \n",
       "3         6           51238.0                0.0  22202       297.5  \n",
       "4         1           62588.0                1.0  48396       392.0  "
      ]
     },
     "execution_count": 10,
     "metadata": {},
     "output_type": "execute_result"
    }
   ],
   "source": [
    "df.head()"
   ]
  },
  {
   "cell_type": "code",
   "execution_count": 11,
   "metadata": {},
   "outputs": [],
   "source": [
    "import matplotlib.pyplot as plt\n",
    "import seaborn as sns"
   ]
  },
  {
   "cell_type": "markdown",
   "metadata": {},
   "source": [
    "first I want to learn the tend of average total price per month"
   ]
  },
  {
   "cell_type": "code",
   "execution_count": 12,
   "metadata": {},
   "outputs": [
    {
     "data": {
      "text/plain": [
       "<matplotlib.axes._subplots.AxesSubplot at 0x11c93e850>"
      ]
     },
     "execution_count": 12,
     "metadata": {},
     "output_type": "execute_result"
    },
    {
     "data": {
      "image/png": "[encoded data removed]",
      "text/plain": [
       "<Figure size 432x288 with 1 Axes>"
      ]
     },
     "metadata": {
      "needs_background": "light"
     },
     "output_type": "display_data"
    }
   ],
   "source": [
    "price_time = pd.DataFrame()\n",
    "price_time['totalPrice'] = df['totalPrice']\n",
    "price_time['date'] = pd.to_datetime(df['tradeTime'])\n",
    "price_time = price_time.set_index('date')\n",
    "# by month\n",
    "price_time = price_time.resample('M').mean().to_period('M')\n",
    "price_time.plot(kind='line')"
   ]
  },
  {
   "cell_type": "raw",
   "metadata": {},
   "source": [
    "from 2003 to 2010, the average total price per month is none, form 2010 to 2018, the tendency of the average trade\n",
    "amount per month is increasing"
   ]
  },
  {
   "cell_type": "markdown",
   "metadata": {},
   "source": [
    "then I will learn the tendency of the overall trade amount by month"
   ]
  },
  {
   "cell_type": "code",
   "execution_count": 13,
   "metadata": {},
   "outputs": [
    {
     "data": {
      "text/plain": [
       "<matplotlib.axes._subplots.AxesSubplot at 0x11c338310>"
      ]
     },
     "execution_count": 13,
     "metadata": {},
     "output_type": "execute_result"
    },
    {
     "data": {
      "image/png": "[encoded data removed]",
      "text/plain": [
       "<Figure size 432x288 with 1 Axes>"
      ]
     },
     "metadata": {
      "needs_background": "light"
     },
     "output_type": "display_data"
    }
   ],
   "source": [
    "price_time = pd.DataFrame()\n",
    "price_time['totalPrice'] = df['totalPrice']\n",
    "price_time['date'] = pd.to_datetime(df['tradeTime'])\n",
    "price_time = price_time.set_index('date')\n",
    "# by month\n",
    "price_time = price_time.resample('M').sum().to_period('M')\n",
    "price_time.plot(kind='line')"
   ]
  },
  {
   "cell_type": "raw",
   "metadata": {},
   "source": [
    "from 2003 to 2010, the overall trade amount is non. the highest trade amount appeared between 2016 to 2017,\n",
    "so these two years are the very popular years when second-hand house market was very activate."
   ]
  },
  {
   "cell_type": "markdown",
   "metadata": {},
   "source": [
    "then let's study the 'district' feature. \n",
    "I want to study the relation between the district and the number of houses at this district, \n",
    "relation between the district and the average total price of this district, \n",
    "relation between the district and the price per square of this district."
   ]
  },
  {
   "cell_type": "code",
   "execution_count": 39,
   "metadata": {
    "scrolled": true
   },
   "outputs": [
    {
     "data": {
      "image/png": "[encoded data removed]",
      "text/plain": [
       "<Figure size 1440x2160 with 4 Axes>"
      ]
     },
     "metadata": {
      "needs_background": "light"
     },
     "output_type": "display_data"
    }
   ],
   "source": [
    "# the number of houses for each districts\n",
    "df_house_count = df.groupby('district')['totalPrice'].count().sort_values(ascending=False).to_frame().reset_index()\n",
    "# average house's total price for each districts\n",
    "df_total_price_mean = df.groupby('district')['totalPrice'].mean().sort_values(ascending=False).to_frame().reset_index()\n",
    "# average house's price per sqaure for each districts\n",
    "df_per_price_mean = df.groupby('district')['price'].mean().sort_values(ascending=False).to_frame().reset_index()\n",
    "\n",
    "# construct a 2*2 subplot figure\n",
    "fig = plt.figure(figsize=(20,30))\n",
    "# fig of district and houses number\n",
    "ax1 = fig.add_subplot(4, 1, 1)\n",
    "sns.barplot(x='district', y='totalPrice', palette=\"Greens_d\", data=df_house_count, ax=ax1)\n",
    "ax1.set_title('numbers of second-hand houses for different districts in Beijing',fontsize=20)\n",
    "ax1.set_xlabel('district', fontsize=15)\n",
    "ax1.set_ylabel('houses number', fontsize=15)\n",
    "# fig of district and average house total price\n",
    "ax2 = fig.add_subplot(4, 1, 2)\n",
    "sns.barplot(x='district', y='totalPrice', palette=\"Greens_d\", data=df_total_price_mean, ax=ax2)\n",
    "ax2.set_title('average total prices for different districts in Beijing',fontsize=20)\n",
    "ax2.set_xlabel('district', fontsize=15)\n",
    "ax2.set_ylabel('average total price', fontsize=15)\n",
    "# fig of district and average price per square\n",
    "ax3 = fig.add_subplot(4, 1, 3)\n",
    "sns.barplot(x='district', y='price', palette=\"Greens_d\", data=df_per_price_mean, ax=ax3)\n",
    "ax3.set_title('average price per square for different districts in Beijing',fontsize=20)\n",
    "ax3.set_xlabel('district', fontsize=15)\n",
    "ax3.set_ylabel('average price per square', fontsize=15)\n",
    "# boxfig of district and average house total price\n",
    "ax4 = fig.add_subplot(4, 1, 4)\n",
    "sns.boxplot(x='district', y='totalPrice', data=df, ax=ax4)\n",
    "ax4.set_title('total prices for different districts in Beijing',fontsize=20)\n",
    "ax4.set_xlabel('district', fontsize=15)\n",
    "ax4.set_ylabel('total price', fontsize=15)\n",
    "\n",
    "plt.show()"
   ]
  },
  {
   "cell_type": "raw",
   "metadata": {},
   "source": [
    "district: (1)Dongcheng (2)Fengtai (3)Tongzhou (4)Daxing (5)Fangshan (6)Changping (7)Chaoyang (8)Haidian (9)Shijingshan\n",
    "(10)Xicheng (11)Pinggu (12)Mengtougou (13)Shunyi\n",
    "\n",
    "district=7, which is Chaoyang Dist, had most second-hand house trade record, which is far more than other districts.\n",
    "so we can conclude that Chaoyang Dist has more second-hand house resources.\n",
    "for average total price and average price per square, we can conclude that high price per square can lead to\n",
    "high total price. the tendencies of figure 'average total prices for different districts in Beijing' and \n",
    "figure 'average price per square for different districts in Beijing' are nearly the same.\n",
    "for average total price, district 1, 7, 8 ,10 which is Dongcheng Dist, Chaoyang Dist, Haidian Dist, Xicheng Dist had\n",
    "much more expensive total price than other districts. it is the same for the average price per square. so consumers\n",
    "who want to purchase a second-hand house without much budget should consider districts except district 1, 7, 8, 10."
   ]
  },
  {
   "cell_type": "markdown",
   "metadata": {},
   "source": [
    "Then I want to learn the relation between the size of the house and its price"
   ]
  },
  {
   "cell_type": "code",
   "execution_count": 40,
   "metadata": {},
   "outputs": [
    {
     "data": {
      "text/plain": [
       "<matplotlib.axes._subplots.AxesSubplot at 0x123500410>"
      ]
     },
     "execution_count": 40,
     "metadata": {},
     "output_type": "execute_result"
    },
    {
     "data": {
      "image/png": "[encoded data removed]",
      "text/plain": [
       "<Figure size 432x288 with 1 Axes>"
      ]
     },
     "metadata": {
      "needs_background": "light"
     },
     "output_type": "display_data"
    }
   ],
   "source": [
    "# distribution of house's square\n",
    "fig = plt.figure()\n",
    "sns.kdeplot(df['square'], shade=True)"
   ]
  },
  {
   "cell_type": "raw",
   "metadata": {},
   "source": [
    "from figure above we can learn, the size of square of traded second-hand houses in Beijing is between 5 to 1750.\n",
    "the gap bwtween the minimal and maximal square is huge, but the majority of square is between 5 to 250"
   ]
  },
  {
   "cell_type": "code",
   "execution_count": 26,
   "metadata": {},
   "outputs": [
    {
     "data": {
      "text/plain": [
       "<matplotlib.axes._subplots.AxesSubplot at 0x12470a650>"
      ]
     },
     "execution_count": 26,
     "metadata": {},
     "output_type": "execute_result"
    },
    {
     "data": {
      "image/png": "[encoded data removed]",
      "text/plain": [
       "<Figure size 432x288 with 1 Axes>"
      ]
     },
     "metadata": {
      "needs_background": "light"
     },
     "output_type": "display_data"
    }
   ],
   "source": [
    "# relation between house' square and house' total price\n",
    "fig = plt.figure()\n",
    "sns.regplot(x='square', y='totalPrice', data=df)"
   ]
  },
  {
   "cell_type": "raw",
   "metadata": {},
   "source": [
    "from figure above we can learn, house's total price increases as the house's square increases, which is consistant to\n",
    "normal knowledge. the majority of scatter points whose square between 5 to 750, total price between 1 to 7500 \n",
    "aggregate at the nearby of the fitted line.\n",
    "however, there are three scatter points set apart from the majority, we should check these three points."
   ]
  },
  {
   "cell_type": "code",
   "execution_count": 41,
   "metadata": {},
   "outputs": [
    {
     "data": {
      "text/html": [
       "<div>\n",
       "<style scoped>\n",
       "    .dataframe tbody tr th:only-of-type {\n",
       "        vertical-align: middle;\n",
       "    }\n",
       "\n",
       "    .dataframe tbody tr th {\n",
       "        vertical-align: top;\n",
       "    }\n",
       "\n",
       "    .dataframe thead th {\n",
       "        text-align: right;\n",
       "    }\n",
       "</style>\n",
       "<table border=\"1\" class=\"dataframe\">\n",
       "  <thead>\n",
       "    <tr style=\"text-align: right;\">\n",
       "      <th></th>\n",
       "      <th>Lng</th>\n",
       "      <th>Lat</th>\n",
       "      <th>tradeTime</th>\n",
       "      <th>followers</th>\n",
       "      <th>square</th>\n",
       "      <th>livingRoom</th>\n",
       "      <th>drawingRoom</th>\n",
       "      <th>kitchen</th>\n",
       "      <th>bathRoom</th>\n",
       "      <th>floor</th>\n",
       "      <th>buildingType</th>\n",
       "      <th>buildingStructure</th>\n",
       "      <th>constructionTime</th>\n",
       "      <th>renovationCondition</th>\n",
       "      <th>ladderRatio</th>\n",
       "      <th>elevator</th>\n",
       "      <th>subway</th>\n",
       "      <th>district</th>\n",
       "      <th>communityAverage</th>\n",
       "      <th>fiveYearsProperty</th>\n",
       "      <th>price</th>\n",
       "      <th>totalPrice</th>\n",
       "    </tr>\n",
       "  </thead>\n",
       "  <tbody>\n",
       "    <tr>\n",
       "      <td>65440</td>\n",
       "      <td>116.447681</td>\n",
       "      <td>40.002373</td>\n",
       "      <td>2017/3/24</td>\n",
       "      <td>0</td>\n",
       "      <td>906.0</td>\n",
       "      <td>6</td>\n",
       "      <td>3</td>\n",
       "      <td>1</td>\n",
       "      <td>5</td>\n",
       "      <td>底 3</td>\n",
       "      <td>NaN</td>\n",
       "      <td>6</td>\n",
       "      <td>2005</td>\n",
       "      <td>4</td>\n",
       "      <td>1.000</td>\n",
       "      <td>0.0</td>\n",
       "      <td>0.0</td>\n",
       "      <td>7</td>\n",
       "      <td>108901.0</td>\n",
       "      <td>0.0</td>\n",
       "      <td>128036</td>\n",
       "      <td>11600.0</td>\n",
       "    </tr>\n",
       "    <tr>\n",
       "      <td>67868</td>\n",
       "      <td>116.468806</td>\n",
       "      <td>39.978995</td>\n",
       "      <td>2017/3/30</td>\n",
       "      <td>0</td>\n",
       "      <td>1745.5</td>\n",
       "      <td>6</td>\n",
       "      <td>3</td>\n",
       "      <td>1</td>\n",
       "      <td>4</td>\n",
       "      <td>底 4</td>\n",
       "      <td>NaN</td>\n",
       "      <td>6</td>\n",
       "      <td>2008</td>\n",
       "      <td>1</td>\n",
       "      <td>1.000</td>\n",
       "      <td>0.0</td>\n",
       "      <td>0.0</td>\n",
       "      <td>7</td>\n",
       "      <td>88345.0</td>\n",
       "      <td>0.0</td>\n",
       "      <td>103868</td>\n",
       "      <td>18130.0</td>\n",
       "    </tr>\n",
       "    <tr>\n",
       "      <td>176617</td>\n",
       "      <td>116.413042</td>\n",
       "      <td>40.000445</td>\n",
       "      <td>2015/12/23</td>\n",
       "      <td>2</td>\n",
       "      <td>922.7</td>\n",
       "      <td>3</td>\n",
       "      <td>1</td>\n",
       "      <td>1</td>\n",
       "      <td>1</td>\n",
       "      <td>中 7</td>\n",
       "      <td>4.0</td>\n",
       "      <td>6</td>\n",
       "      <td>未知</td>\n",
       "      <td>3</td>\n",
       "      <td>0.118</td>\n",
       "      <td>1.0</td>\n",
       "      <td>1.0</td>\n",
       "      <td>7</td>\n",
       "      <td>NaN</td>\n",
       "      <td>1.0</td>\n",
       "      <td>29262</td>\n",
       "      <td>2700.0</td>\n",
       "    </tr>\n",
       "  </tbody>\n",
       "</table>\n",
       "</div>"
      ],
      "text/plain": [
       "               Lng        Lat   tradeTime  followers  square livingRoom  \\\n",
       "65440   116.447681  40.002373   2017/3/24          0   906.0          6   \n",
       "67868   116.468806  39.978995   2017/3/30          0  1745.5          6   \n",
       "176617  116.413042  40.000445  2015/12/23          2   922.7          3   \n",
       "\n",
       "       drawingRoom  kitchen bathRoom floor  buildingType  buildingStructure  \\\n",
       "65440            3        1        5   底 3           NaN                  6   \n",
       "67868            3        1        4   底 4           NaN                  6   \n",
       "176617           1        1        1   中 7           4.0                  6   \n",
       "\n",
       "       constructionTime  renovationCondition  ladderRatio  elevator  subway  \\\n",
       "65440              2005                    4        1.000       0.0     0.0   \n",
       "67868              2008                    1        1.000       0.0     0.0   \n",
       "176617               未知                    3        0.118       1.0     1.0   \n",
       "\n",
       "        district  communityAverage  fiveYearsProperty   price  totalPrice  \n",
       "65440          7          108901.0                0.0  128036     11600.0  \n",
       "67868          7           88345.0                0.0  103868     18130.0  \n",
       "176617         7               NaN                1.0   29262      2700.0  "
      ]
     },
     "execution_count": 41,
     "metadata": {},
     "output_type": "execute_result"
    }
   ],
   "source": [
    "df.loc[df['square'] > 750]"
   ]
  },
  {
   "cell_type": "raw",
   "metadata": {},
   "source": [
    "this is the infomation of those strange scatter points. these three houses' square are more than 750, and two of them\n",
    "'s total price is extremly high. for these two points, we can consider to delete them from data set."
   ]
  },
  {
   "cell_type": "markdown",
   "metadata": {},
   "source": [
    "let's plot all the relation figure for each features related to total price"
   ]
  },
  {
   "cell_type": "markdown",
   "metadata": {},
   "source": [
    "pre-process data\n",
    "first, we need to know which features have NAN values, and which features' values contain special characters.\n",
    "then we should check the detail of these features."
   ]
  },
  {
   "cell_type": "code",
   "execution_count": 14,
   "metadata": {},
   "outputs": [
    {
     "data": {
      "text/plain": [
       "2         83333\n",
       "2         77256\n",
       "1         42138\n",
       "1         40248\n",
       "3         36044\n",
       "3         31567\n",
       "4          3472\n",
       "4          3349\n",
       "5           570\n",
       "5           537\n",
       "6           126\n",
       "6           102\n",
       "#NAME?       32\n",
       "7            22\n",
       "0            17\n",
       "7            15\n",
       "0            11\n",
       "8             4\n",
       "9             3\n",
       "8             3\n",
       "9             2\n",
       "Name: livingRoom, dtype: int64"
      ]
     },
     "execution_count": 14,
     "metadata": {},
     "output_type": "execute_result"
    }
   ],
   "source": [
    "df['livingRoom'].value_counts()"
   ]
  },
  {
   "cell_type": "code",
   "execution_count": 15,
   "metadata": {},
   "outputs": [],
   "source": [
    "# remove \"#NAME\" in 'livingRoom'\n",
    "df = df[(df['livingRoom']!='#NAME?')]"
   ]
  },
  {
   "cell_type": "code",
   "execution_count": 16,
   "metadata": {},
   "outputs": [
    {
     "data": {
      "text/plain": [
       "2    83333\n",
       "2    77256\n",
       "1    42138\n",
       "1    40248\n",
       "3    36044\n",
       "3    31567\n",
       "4     3472\n",
       "4     3349\n",
       "5      570\n",
       "5      537\n",
       "6      126\n",
       "6      102\n",
       "7       22\n",
       "0       17\n",
       "7       15\n",
       "0       11\n",
       "8        4\n",
       "8        3\n",
       "9        3\n",
       "9        2\n",
       "Name: livingRoom, dtype: int64"
      ]
     },
     "execution_count": 16,
     "metadata": {},
     "output_type": "execute_result"
    }
   ],
   "source": [
    "df['livingRoom'].value_counts()"
   ]
  },
  {
   "cell_type": "code",
   "execution_count": 17,
   "metadata": {},
   "outputs": [
    {
     "data": {
      "text/plain": [
       "1    115876\n",
       "1    109783\n",
       "2     39084\n",
       "2     33418\n",
       "0     11300\n",
       "0      8386\n",
       "3       474\n",
       "3       444\n",
       "4        31\n",
       "4        16\n",
       "5         5\n",
       "5         2\n",
       "Name: drawingRoom, dtype: int64"
      ]
     },
     "execution_count": 17,
     "metadata": {},
     "output_type": "execute_result"
    }
   ],
   "source": [
    "df['drawingRoom'].value_counts()"
   ]
  },
  {
   "cell_type": "code",
   "execution_count": 18,
   "metadata": {},
   "outputs": [
    {
     "data": {
      "text/plain": [
       "1    206915\n",
       "1     54573\n",
       "2     42367\n",
       "2     10239\n",
       "3      2712\n",
       "0       804\n",
       "3       528\n",
       "4       425\n",
       "0       111\n",
       "4        64\n",
       "5        53\n",
       "5        16\n",
       "6         9\n",
       "7         2\n",
       "7         1\n",
       "Name: bathRoom, dtype: int64"
      ]
     },
     "execution_count": 18,
     "metadata": {},
     "output_type": "execute_result"
    }
   ],
   "source": [
    "df['bathRoom'].value_counts()"
   ]
  },
  {
   "cell_type": "code",
   "execution_count": 19,
   "metadata": {},
   "outputs": [
    {
     "data": {
      "text/plain": [
       "中 6     34788\n",
       "顶 6     22763\n",
       "高 6     20904\n",
       "低 6     15737\n",
       "底 6     13338\n",
       "        ...  \n",
       "中 57        2\n",
       "低 2         1\n",
       "低 35        1\n",
       "低 5         1\n",
       "低 63        1\n",
       "Name: floor, Length: 201, dtype: int64"
      ]
     },
     "execution_count": 19,
     "metadata": {},
     "output_type": "execute_result"
    }
   ],
   "source": [
    "df['floor'].value_counts()"
   ]
  },
  {
   "cell_type": "code",
   "execution_count": 20,
   "metadata": {},
   "outputs": [
    {
     "data": {
      "text/plain": [
       "2004    21145\n",
       "2003    19409\n",
       "未知      19283\n",
       "2005    18924\n",
       "2006    14854\n",
       "        ...  \n",
       "1934        2\n",
       "1944        2\n",
       "1906        1\n",
       "1933        1\n",
       "1914        1\n",
       "Name: constructionTime, Length: 72, dtype: int64"
      ]
     },
     "execution_count": 20,
     "metadata": {},
     "output_type": "execute_result"
    }
   ],
   "source": [
    "df['constructionTime'].value_counts()"
   ]
  },
  {
   "cell_type": "code",
   "execution_count": 21,
   "metadata": {},
   "outputs": [],
   "source": [
    "# remove \"未知\" in 'constructionTime'\n",
    "df = df[(df['constructionTime'] != '未知')]"
   ]
  },
  {
   "cell_type": "code",
   "execution_count": 22,
   "metadata": {},
   "outputs": [
    {
     "data": {
      "text/plain": [
       "2004    21145\n",
       "2003    19409\n",
       "2005    18924\n",
       "2006    14854\n",
       "2007    14213\n",
       "        ...  \n",
       "1934        2\n",
       "1944        2\n",
       "1906        1\n",
       "1933        1\n",
       "1914        1\n",
       "Name: constructionTime, Length: 71, dtype: int64"
      ]
     },
     "execution_count": 22,
     "metadata": {},
     "output_type": "execute_result"
    }
   ],
   "source": [
    "df['constructionTime'].value_counts()"
   ]
  },
  {
   "cell_type": "code",
   "execution_count": 23,
   "metadata": {},
   "outputs": [
    {
     "name": "stdout",
     "output_type": "stream",
     "text": [
      "<class 'pandas.core.frame.DataFrame'>\n",
      "Int64Index: 299536 entries, 0 to 318849\n",
      "Data columns (total 22 columns):\n",
      "Lng                    299536 non-null float64\n",
      "Lat                    299536 non-null float64\n",
      "tradeTime              299536 non-null object\n",
      "followers              299536 non-null int64\n",
      "square                 299536 non-null float64\n",
      "livingRoom             299536 non-null object\n",
      "drawingRoom            299536 non-null object\n",
      "kitchen                299536 non-null int64\n",
      "bathRoom               299536 non-null object\n",
      "floor                  299536 non-null object\n",
      "buildingType           297990 non-null float64\n",
      "buildingStructure      299536 non-null int64\n",
      "constructionTime       299536 non-null object\n",
      "renovationCondition    299536 non-null int64\n",
      "ladderRatio            299536 non-null float64\n",
      "elevator               299536 non-null float64\n",
      "subway                 299536 non-null float64\n",
      "district               299536 non-null int64\n",
      "communityAverage       299241 non-null float64\n",
      "fiveYearsProperty      299536 non-null float64\n",
      "price                  299536 non-null int64\n",
      "totalPrice             299536 non-null float64\n",
      "dtypes: float64(10), int64(6), object(6)\n",
      "memory usage: 52.6+ MB\n"
     ]
    }
   ],
   "source": [
    "df.info()"
   ]
  },
  {
   "cell_type": "markdown",
   "metadata": {},
   "source": [
    "from this list above we can see, some features' datetype is int64, I change these datetype into float64"
   ]
  },
  {
   "cell_type": "code",
   "execution_count": 24,
   "metadata": {},
   "outputs": [],
   "source": [
    "df.livingRoom = df.livingRoom.astype('float64')\n",
    "df.drawingRoom = df.livingRoom.astype('float64')\n",
    "df.kitchen = df.livingRoom.astype('float64')\n",
    "df.bathRoom = df.livingRoom.astype('float64')\n",
    "df.buildingStructure = df.livingRoom.astype('float64')\n",
    "df.constructionTime = df.livingRoom.astype('float64')\n",
    "df.renovationCondition = df.livingRoom.astype('float64')\n",
    "df.district = df.livingRoom.astype('float64')"
   ]
  },
  {
   "cell_type": "markdown",
   "metadata": {},
   "source": [
    "I think 'tradeTime' is not relative to total price, so this column is useless to the predictive model,\n",
    "so I delete this column from df"
   ]
  },
  {
   "cell_type": "code",
   "execution_count": 25,
   "metadata": {},
   "outputs": [],
   "source": [
    "df = df.drop('tradeTime', axis=1)"
   ]
  },
  {
   "cell_type": "markdown",
   "metadata": {},
   "source": [
    "also, from the infomation of 'floor' we can see that this feature's values contain spacial character, which is very\n",
    "hard to process. for convinience, I simply delete this column."
   ]
  },
  {
   "cell_type": "code",
   "execution_count": 26,
   "metadata": {},
   "outputs": [],
   "source": [
    "df = df.drop('floor', axis=1)"
   ]
  },
  {
   "cell_type": "markdown",
   "metadata": {},
   "source": [
    "for these features whose values contain NAN, I replace NAN values with its mean value."
   ]
  },
  {
   "cell_type": "code",
   "execution_count": 27,
   "metadata": {},
   "outputs": [],
   "source": [
    "mean = df['buildingType'].mean()\n",
    "df['buildingType'] = df['buildingType'].fillna(mean)"
   ]
  },
  {
   "cell_type": "code",
   "execution_count": 28,
   "metadata": {},
   "outputs": [],
   "source": [
    "mean = df['communityAverage'].mean()\n",
    "df['communityAverage'] = df['communityAverage'].fillna(mean)"
   ]
  },
  {
   "cell_type": "markdown",
   "metadata": {},
   "source": [
    "then check the correlation among all features, we can conclude that all the features we keeped is relative to total price"
   ]
  },
  {
   "cell_type": "code",
   "execution_count": 252,
   "metadata": {},
   "outputs": [
    {
     "data": {
      "image/png": "[encoded data removed]",
      "text/plain": [
       "<Figure size 720x576 with 2 Axes>"
      ]
     },
     "metadata": {},
     "output_type": "display_data"
    }
   ],
   "source": [
    "cols = ['square', 'livingRoom', 'drawingRoom', 'kitchen', 'bathRoom', 'buildingType', 'buildingStructure', 'constructionTime', 'renovationCondition', 'ladderRatio', 'elevator', 'subway', 'district', 'communityAverage', 'fiveYearsProperty', 'totalPrice']\n",
    "from matplotlib.pyplot import figure\n",
    "figure(num=None, figsize=(10, 8))\n",
    "cm = np.corrcoef(df[cols].values.T)\n",
    "sns.set(font_scale=1.5)\n",
    "hm = sns.heatmap(cm,\n",
    "                cbar = True,\n",
    "                annot = True,\n",
    "                square = True,\n",
    "                fmt = '.2f',\n",
    "                annot_kws = {'size': 15},\n",
    "                yticklabels = cols,\n",
    "                xticklabels = cols,\n",
    "                )"
   ]
  },
  {
   "cell_type": "markdown",
   "metadata": {},
   "source": [
    "split data set"
   ]
  },
  {
   "cell_type": "code",
   "execution_count": 29,
   "metadata": {},
   "outputs": [],
   "source": [
    "X = df.iloc[:, :19]\n",
    "y = df.loc[:, 'totalPrice']\n",
    "\n",
    "from sklearn.model_selection import train_test_split\n",
    "X_train, X_test, Y_train, Y_test = train_test_split(X, y, test_size=0.2, random_state=0)"
   ]
  },
  {
   "cell_type": "markdown",
   "metadata": {},
   "source": [
    "I decide to use LinearRegresson model to train this data set and get a predictive model"
   ]
  },
  {
   "cell_type": "code",
   "execution_count": 51,
   "metadata": {},
   "outputs": [
    {
     "data": {
      "text/plain": [
       "Text(0, 0.5, 'Predicted')"
      ]
     },
     "execution_count": 51,
     "metadata": {},
     "output_type": "execute_result"
    },
    {
     "data": {
      "image/png": "[encoded data removed]",
      "text/plain": [
       "<Figure size 432x288 with 1 Axes>"
      ]
     },
     "metadata": {
      "needs_background": "light"
     },
     "output_type": "display_data"
    }
   ],
   "source": [
    "from sklearn.linear_model import LinearRegression\n",
    "\n",
    "reg = LinearRegression()\n",
    "reg.fit(X_train, Y_train)\n",
    "Y_pred = reg.predict(X_test)\n",
    "sns.regplot(Y_test, Y_pred)\n",
    "plt.xlabel(\"Observed\")\n",
    "plt.ylabel(\"Predicted\")"
   ]
  },
  {
   "cell_type": "code",
   "execution_count": 52,
   "metadata": {},
   "outputs": [
    {
     "data": {
      "text/plain": [
       "array([-4.22600818e+00, -5.56003817e+01,  4.01351628e-02,  4.46152961e+00,\n",
       "       -9.62550620e-01, -9.62550620e-01, -9.62550620e-01, -9.62550620e-01,\n",
       "        3.74221726e+00, -9.62550620e-01, -9.62550620e-01, -9.62550620e-01,\n",
       "       -2.31506988e-06,  1.88926526e+01, -2.14597007e-01, -9.62550620e-01,\n",
       "        3.61618610e-04,  1.66296005e+00,  7.58868371e-03])"
      ]
     },
     "execution_count": 52,
     "metadata": {},
     "output_type": "execute_result"
    }
   ],
   "source": [
    "# The coefficients of the model can be obtained with `coef_` attribute of the class:\n",
    "reg.coef_"
   ]
  },
  {
   "cell_type": "code",
   "execution_count": 53,
   "metadata": {},
   "outputs": [
    {
     "name": "stdout",
     "output_type": "stream",
     "text": [
      "0.8629689420206466\n",
      "0.8745174813541731\n"
     ]
    }
   ],
   "source": [
    "# Coefficient of determination of model ( model-rsqare)\n",
    "print (reg.score(X_train, Y_train))\n",
    "print (reg.score(X_test, Y_test))"
   ]
  },
  {
   "cell_type": "markdown",
   "metadata": {},
   "source": [
    "check reg's hyperparameters"
   ]
  },
  {
   "cell_type": "code",
   "execution_count": 47,
   "metadata": {},
   "outputs": [
    {
     "name": "stdout",
     "output_type": "stream",
     "text": [
      "LinearRegression(copy_X=True, fit_intercept=True, n_jobs=None, normalize=False)\n"
     ]
    }
   ],
   "source": [
    "print(reg)"
   ]
  },
  {
   "cell_type": "raw",
   "metadata": {},
   "source": [
    "because LinearRegression model have no hyperparameters, so we needn't to tune its hyperparameters. from the fitted figure shows above and coefficient we can conclude the result shows LinearRegression model is a good model to fit this data set."
   ]
  },
  {
   "cell_type": "markdown",
   "metadata": {},
   "source": [
    "Next let's try Random Forest model"
   ]
  },
  {
   "cell_type": "code",
   "execution_count": 58,
   "metadata": {},
   "outputs": [],
   "source": [
    "from sklearn.ensemble import RandomForestRegressor\n",
    "rf = RandomForestRegressor()"
   ]
  },
  {
   "cell_type": "code",
   "execution_count": 59,
   "metadata": {},
   "outputs": [
    {
     "name": "stderr",
     "output_type": "stream",
     "text": [
      "/Users/pgh/opt/anaconda3/lib/python3.7/site-packages/sklearn/ensemble/forest.py:245: FutureWarning: The default value of n_estimators will change from 10 in version 0.20 to 100 in 0.22.\n",
      "  \"10 in version 0.20 to 100 in 0.22.\", FutureWarning)\n"
     ]
    },
    {
     "data": {
      "text/plain": [
       "Text(0, 0.5, 'Predicted')"
      ]
     },
     "execution_count": 59,
     "metadata": {},
     "output_type": "execute_result"
    },
    {
     "data": {
      "image/png": "[encoded data removed]",
      "text/plain": [
       "<Figure size 432x288 with 1 Axes>"
      ]
     },
     "metadata": {
      "needs_background": "light"
     },
     "output_type": "display_data"
    }
   ],
   "source": [
    "rf.fit(X_train, Y_train)\n",
    "Y_pred = rf.predict(X_test)\n",
    "sns.regplot(Y_test, Y_pred)\n",
    "plt.xlabel(\"Observed\")\n",
    "plt.ylabel(\"Predicted\")"
   ]
  },
  {
   "cell_type": "markdown",
   "metadata": {},
   "source": [
    "check tr's hyperparameters"
   ]
  },
  {
   "cell_type": "code",
   "execution_count": 60,
   "metadata": {},
   "outputs": [
    {
     "name": "stdout",
     "output_type": "stream",
     "text": [
      "RandomForestRegressor(bootstrap=True, criterion='mse', max_depth=None,\n",
      "                      max_features='auto', max_leaf_nodes=None,\n",
      "                      min_impurity_decrease=0.0, min_impurity_split=None,\n",
      "                      min_samples_leaf=1, min_samples_split=2,\n",
      "                      min_weight_fraction_leaf=0.0, n_estimators=10,\n",
      "                      n_jobs=None, oob_score=False, random_state=None,\n",
      "                      verbose=0, warm_start=False)\n"
     ]
    }
   ],
   "source": [
    "print(rf)"
   ]
  },
  {
   "cell_type": "code",
   "execution_count": 61,
   "metadata": {},
   "outputs": [
    {
     "name": "stdout",
     "output_type": "stream",
     "text": [
      "The model performance for baseline model is:\n",
      "---------------------------------------------\n",
      "mean absoulte error is 0.9725108499699543\n",
      "R2 score is 0.9994413314647476\n"
     ]
    }
   ],
   "source": [
    "from sklearn.metrics import mean_absolute_error, r2_score\n",
    "mae = mean_absolute_error(Y_test, Y_pred)\n",
    "r2=r2_score(Y_test, Y_pred)\n",
    "print(\"The model performance for baseline model is:\")\n",
    "print(\"---------------------------------------------\")\n",
    "print('mean absoulte error is {}'.format(mae))\n",
    "print('R2 score is {}'.format(r2))"
   ]
  },
  {
   "cell_type": "markdown",
   "metadata": {},
   "source": [
    "hyperparameters tuning for Random Forest model"
   ]
  },
  {
   "cell_type": "code",
   "execution_count": 62,
   "metadata": {},
   "outputs": [],
   "source": [
    "param_grid = {\n",
    "    'bootstrap': [True],\n",
    "    'min_samples_leaf': [1,2,3,4,5],\n",
    "    'n_estimators': [10,20,30,40,50]\n",
    "}"
   ]
  },
  {
   "cell_type": "code",
   "execution_count": 63,
   "metadata": {},
   "outputs": [
    {
     "name": "stdout",
     "output_type": "stream",
     "text": [
      "Fitting 3 folds for each of 25 candidates, totalling 75 fits\n"
     ]
    },
    {
     "name": "stderr",
     "output_type": "stream",
     "text": [
      "[Parallel(n_jobs=-1)]: Using backend LokyBackend with 12 concurrent workers.\n",
      "[Parallel(n_jobs=-1)]: Done  17 tasks      | elapsed:  1.7min\n",
      "[Parallel(n_jobs=-1)]: Done  75 out of  75 | elapsed:  6.7min finished\n"
     ]
    }
   ],
   "source": [
    "from sklearn.model_selection import GridSearchCV\n",
    "grid_search = GridSearchCV(estimator = rf, param_grid = param_grid, cv = 3, n_jobs = -1, verbose = 2)\n",
    "grid_search.fit(X_train, Y_train);"
   ]
  },
  {
   "cell_type": "code",
   "execution_count": 67,
   "metadata": {},
   "outputs": [
    {
     "data": {
      "text/plain": [
       "RandomForestRegressor(bootstrap=True, criterion='mse', max_depth=None,\n",
       "                      max_features='auto', max_leaf_nodes=None,\n",
       "                      min_impurity_decrease=0.0, min_impurity_split=None,\n",
       "                      min_samples_leaf=1, min_samples_split=2,\n",
       "                      min_weight_fraction_leaf=0.0, n_estimators=10,\n",
       "                      n_jobs=None, oob_score=False, random_state=None,\n",
       "                      verbose=0, warm_start=False)"
      ]
     },
     "execution_count": 67,
     "metadata": {},
     "output_type": "execute_result"
    }
   ],
   "source": [
    "best_grid= grid_search.best_estimator_\n",
    "best_grid"
   ]
  },
  {
   "cell_type": "raw",
   "metadata": {},
   "source": [
    "no hyperparameters changes, the default set is very well.\n",
    "compare the result of LiearRegression model and RandomForest model, we can conclude that RandomForest model is more \n",
    "suitable for this task.\n",
    "Boosting regression model performs than on this task than linear regression model."
   ]
  },
  {
   "cell_type": "markdown",
   "metadata": {},
   "source": [
    "finally let's try adaboost model"
   ]
  },
  {
   "cell_type": "code",
   "execution_count": 30,
   "metadata": {},
   "outputs": [],
   "source": [
    "from sklearn.ensemble import AdaBoostRegressor\n",
    "adb = AdaBoostRegressor()"
   ]
  },
  {
   "cell_type": "code",
   "execution_count": 32,
   "metadata": {},
   "outputs": [
    {
     "data": {
      "text/plain": [
       "Text(0, 0.5, 'Predicted')"
      ]
     },
     "execution_count": 32,
     "metadata": {},
     "output_type": "execute_result"
    },
    {
     "data": {
      "image/png": "[encoded data removed]",
      "text/plain": [
       "<Figure size 432x288 with 1 Axes>"
      ]
     },
     "metadata": {
      "needs_background": "light"
     },
     "output_type": "display_data"
    }
   ],
   "source": [
    "adb.fit(X_train, Y_train)\n",
    "Y_pred = adb.predict(X_test)\n",
    "sns.regplot(Y_test, Y_pred)\n",
    "plt.xlabel(\"Observed\")\n",
    "plt.ylabel(\"Predicted\")"
   ]
  },
  {
   "cell_type": "code",
   "execution_count": 33,
   "metadata": {},
   "outputs": [
    {
     "name": "stdout",
     "output_type": "stream",
     "text": [
      "AdaBoostRegressor(base_estimator=None, learning_rate=1.0, loss='linear',\n",
      "                  n_estimators=50, random_state=None)\n"
     ]
    }
   ],
   "source": [
    "print(adb)"
   ]
  },
  {
   "cell_type": "code",
   "execution_count": 39,
   "metadata": {},
   "outputs": [
    {
     "name": "stdout",
     "output_type": "stream",
     "text": [
      "The model performance for baseline model is:\n",
      "---------------------------------------------\n",
      "mean absoulte error is 111.35599140899436\n",
      "R2 score is 0.661511529127853\n"
     ]
    }
   ],
   "source": [
    "from sklearn.metrics import mean_absolute_error, r2_score\n",
    "mae = mean_absolute_error(Y_test, Y_pred)\n",
    "r2=r2_score(Y_test, Y_pred)\n",
    "print(\"The model performance for baseline model is:\")\n",
    "print(\"---------------------------------------------\")\n",
    "print('mean absoulte error is {}'.format(mae))\n",
    "print('R2 score is {}'.format(r2))"
   ]
  },
  {
   "cell_type": "markdown",
   "metadata": {},
   "source": [
    "this result is not good, we try tune its hyperparameters to improve its\n",
    "performance."
   ]
  },
  {
   "cell_type": "code",
   "execution_count": 35,
   "metadata": {},
   "outputs": [],
   "source": [
    "param_dist = {\n",
    "               'learning_rate': list(np.linspace(0.01, 1, 10, dtype = float)),\n",
    "               'n_estimators': list(np.linspace(10, 100, 10, dtype = int))}"
   ]
  },
  {
   "cell_type": "code",
   "execution_count": 37,
   "metadata": {},
   "outputs": [
    {
     "name": "stdout",
     "output_type": "stream",
     "text": [
      "Fitting 3 folds for each of 10 candidates, totalling 30 fits\n"
     ]
    },
    {
     "name": "stderr",
     "output_type": "stream",
     "text": [
      "[Parallel(n_jobs=-1)]: Using backend LokyBackend with 12 concurrent workers.\n",
      "[Parallel(n_jobs=-1)]: Done  23 out of  30 | elapsed:  2.2min remaining:   40.1s\n",
      "[Parallel(n_jobs=-1)]: Done  30 out of  30 | elapsed:  2.6min finished\n"
     ]
    }
   ],
   "source": [
    "from sklearn.model_selection import RandomizedSearchCV\n",
    "random_grid_search = RandomizedSearchCV(estimator = adb, param_distributions = param_dist, \n",
    "                          cv = 3, n_jobs = -1, verbose = 2,n_iter = 10)\n",
    "random_grid_search.fit(X_train, Y_train);"
   ]
  },
  {
   "cell_type": "code",
   "execution_count": 38,
   "metadata": {},
   "outputs": [
    {
     "data": {
      "text/plain": [
       "AdaBoostRegressor(base_estimator=None, learning_rate=0.12, loss='linear',\n",
       "                  n_estimators=30, random_state=None)"
      ]
     },
     "execution_count": 38,
     "metadata": {},
     "output_type": "execute_result"
    }
   ],
   "source": [
    "best_grid_randomsearch= random_grid_search.best_estimator_\n",
    "best_grid_randomsearch"
   ]
  },
  {
   "cell_type": "code",
   "execution_count": 40,
   "metadata": {},
   "outputs": [
    {
     "name": "stdout",
     "output_type": "stream",
     "text": [
      "The model performance for testing set from randomsearch search\n",
      "--------------------------------------\n",
      "mean absoulte error is 80.76189600227143\n",
      "R2 score is 0.757564866447395\n",
      "Improvement of 14.52%.\n"
     ]
    }
   ],
   "source": [
    "y_pred_randomsearch = best_grid_randomsearch.predict(X_test)\n",
    "mae_randomsearch = mean_absolute_error(Y_test, y_pred_randomsearch)\n",
    "r2_randomsearch=r2_score(Y_test, y_pred_randomsearch)\n",
    "print(\"The model performance for testing set from randomsearch search\")\n",
    "print(\"--------------------------------------\")\n",
    "print('mean absoulte error is {}'.format(mae_randomsearch))\n",
    "print('R2 score is {}'.format(r2_randomsearch))\n",
    "print('Improvement of {:0.2f}%.'.format( 100 * (r2_randomsearch- r2) / r2))"
   ]
  },
  {
   "cell_type": "raw",
   "metadata": {},
   "source": [
    "the result improved after hyperparameters tuning, but we can see the result\n",
    "is not very good,\n",
    "after tried these three models, I find random forest model is the most\n",
    "suitable model for this task"
   ]
  }
 ],
 "metadata": {
  "kernelspec": {
   "display_name": "Python 3",
   "language": "python",
   "name": "python3"
  },
  "language_info": {
   "codemirror_mode": {
    "name": "ipython",
    "version": 3
   },
   "file_extension": ".py",
   "mimetype": "text/x-python",
   "name": "python",
   "nbconvert_exporter": "python",
   "pygments_lexer": "ipython3",
   "version": "3.7.4"
  }
 },
 "nbformat": 4,
 "nbformat_minor": 2
}
